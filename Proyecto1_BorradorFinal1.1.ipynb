{
 "cells": [
  {
   "cell_type": "markdown",
   "metadata": {},
   "source": [
    "## Proyecto Modulo 1 "
   ]
  },
  {
   "cell_type": "markdown",
   "metadata": {},
   "source": [
    "### Integrantes del equipo:\n",
    "- Integrante 1: Cuauhtémoc Corrales Camacho\n",
    "- Integrante 2: Marco Antonio Sánchez Covarrubias\n",
    "- Integrante 3: Alejandro Serrano Silva"
   ]
  },
  {
   "cell_type": "markdown",
   "metadata": {},
   "source": [
    "# Maximización de la producción de la bebida Kuit y sus beneficios."
   ]
  },
  {
   "cell_type": "markdown",
   "metadata": {},
   "source": [
    "**Objetivo General:** Generar un modelo matemático que maximice la producción de Kuit y sus beneficios. "
   ]
  },
  {
   "cell_type": "markdown",
   "metadata": {},
   "source": [
    "**Objetivos específicos:**\n",
    "+ Investigar y organizar datos correspondientes a la producción de la bebida Kuit.\n",
    "+ Plantear un modelo de programación lineal que proporcione una solución óptima de acuerdo a la función objetivo y las restricciones de los datos."
   ]
  },
  {
   "cell_type": "markdown",
   "metadata": {},
   "source": [
    "### Introducción de Proyecto."
   ]
  },
  {
   "cell_type": "markdown",
   "metadata": {},
   "source": [
    "Mediante este proyecto se busca optimizar la producción de la empresa Kuit Artesanal mediante la programación lineal, tomando como variables principales los 3 productos que se producen con restricciones y una función de costos específicos. Esto con el fin de maximizar las ventas al duplicar nuestra producción y ver los resultados arrojados.\n",
    "Como restricciones sabemos que Kuit Original tiene que ser el producto de mayor producción y Kuit Gold no puede ser menor a 60.\n",
    "\n",
    "$x_1$: Cantidad de botellas producidas semanalmente de Kuit Original\n",
    "\n",
    "$x_2$: Cantidad de botellas producidas semanalmente de Kuit Black\n",
    "\n",
    "$x_3$: Cantidad de botellas producidas semanalmente de Kuit Gold"
   ]
  },
  {
   "cell_type": "markdown",
   "metadata": {},
   "source": [
    "### Datos"
   ]
  },
  {
   "cell_type": "code",
   "execution_count": 5,
   "metadata": {},
   "outputs": [],
   "source": [
    "import pandas as pd"
   ]
  },
  {
   "cell_type": "code",
   "execution_count": 18,
   "metadata": {},
   "outputs": [
    {
     "data": {
      "text/html": [
       "<div>\n",
       "<style scoped>\n",
       "    .dataframe tbody tr th:only-of-type {\n",
       "        vertical-align: middle;\n",
       "    }\n",
       "\n",
       "    .dataframe tbody tr th {\n",
       "        vertical-align: top;\n",
       "    }\n",
       "\n",
       "    .dataframe thead th {\n",
       "        text-align: right;\n",
       "    }\n",
       "</style>\n",
       "<table border=\"1\" class=\"dataframe\">\n",
       "  <thead>\n",
       "    <tr style=\"text-align: right;\">\n",
       "      <th></th>\n",
       "      <th>Unnamed: 0</th>\n",
       "      <th>Cap. Prod. Actual Sem.</th>\n",
       "      <th>Cap. Prod. Nueva Sem.</th>\n",
       "      <th>Precio</th>\n",
       "    </tr>\n",
       "  </thead>\n",
       "  <tbody>\n",
       "    <tr>\n",
       "      <th>0</th>\n",
       "      <td>Kuit Original</td>\n",
       "      <td>400.0000</td>\n",
       "      <td>800.0000</td>\n",
       "      <td>35.0</td>\n",
       "    </tr>\n",
       "    <tr>\n",
       "      <th>1</th>\n",
       "      <td>Kuit Black</td>\n",
       "      <td>200.0000</td>\n",
       "      <td>400.0000</td>\n",
       "      <td>45.0</td>\n",
       "    </tr>\n",
       "    <tr>\n",
       "      <th>2</th>\n",
       "      <td>Kuit Gold</td>\n",
       "      <td>133.3332</td>\n",
       "      <td>266.6664</td>\n",
       "      <td>40.0</td>\n",
       "    </tr>\n",
       "    <tr>\n",
       "      <th>3</th>\n",
       "      <td>TOTAL</td>\n",
       "      <td>733.3332</td>\n",
       "      <td>1466.6664</td>\n",
       "      <td>NaN</td>\n",
       "    </tr>\n",
       "  </tbody>\n",
       "</table>\n",
       "</div>"
      ],
      "text/plain": [
       "      Unnamed: 0  Cap. Prod. Actual Sem.  Cap. Prod. Nueva Sem.  Precio\n",
       "0  Kuit Original                400.0000               800.0000    35.0\n",
       "1     Kuit Black                200.0000               400.0000    45.0\n",
       "2      Kuit Gold                133.3332               266.6664    40.0\n",
       "3          TOTAL                733.3332              1466.6664     NaN"
      ]
     },
     "execution_count": 18,
     "metadata": {},
     "output_type": "execute_result"
    }
   ],
   "source": [
    "file_name = 'produccion semanal.csv'\n",
    "data = pd.read_csv(file_name)\n",
    "data"
   ]
  },
  {
   "cell_type": "markdown",
   "metadata": {},
   "source": [
    "**Función a optimizar:**\n",
    "\n",
    "$\\max_{x_1,x_2,x_3} 35x_1+45x_2+40x_3$\n",
    "\n",
    "**Restricciones:**\n",
    "\n",
    "$x_1\\leq 800$\n",
    "\n",
    "$x_2\\leq 400$\n",
    "\n",
    "$x_3\\leq 266$\n",
    "\n",
    "$-x_2 + 2x_3 \\leq 0$\n",
    "\n",
    "$-x_1+x_2+x_3\\leq 0$\n",
    "\n",
    "$-x_3\\leq -60$"
   ]
  },
  {
   "cell_type": "markdown",
   "metadata": {},
   "source": [
    "+ La restricción 1 se refiere a que el número de botellas de Kuit Original no puede ser mayor a 800.\n",
    "+ La restricción 2 se refiere a que el número de botellas de Kuit Black no puede ser mayor a 400.\n",
    "+ La restricción 3 se refiere a que el número de botellas de Kuit Gold no puede ser mayor a 266.\n",
    "+ El número de botellas de Kuit Black debe ser al menos el doble del número de botellas de Kuit Gold.\n",
    "+ El número de botellas de Kuit Original debe ser mayor a la suma de botellas de Kuit Black y Kuit Gold.\n",
    "+ El número de botellas de Kuit Gold debe de ser mínimo 60."
   ]
  },
  {
   "cell_type": "markdown",
   "metadata": {},
   "source": [
    "### Solución al problema"
   ]
  },
  {
   "cell_type": "code",
   "execution_count": 7,
   "metadata": {},
   "outputs": [],
   "source": [
    "import numpy as np\n",
    "import sympy as sym\n",
    "import matplotlib.pyplot as plt\n",
    "import scipy.optimize as opt"
   ]
  },
  {
   "cell_type": "code",
   "execution_count": 8,
   "metadata": {},
   "outputs": [],
   "source": [
    "c = np.array([-35,-45,-40])\n",
    "\n",
    "A = np.array([[1,0,0],\n",
    "             [0,1,0],\n",
    "             [0,0,1],\n",
    "             [0,-1,2],\n",
    "             [-1,1,1],\n",
    "             [0,0,-1]])\n",
    "\n",
    "b = np.array([800,400,266,0,0,-60])\n",
    "\n"
   ]
  },
  {
   "cell_type": "code",
   "execution_count": 9,
   "metadata": {},
   "outputs": [],
   "source": [
    "R = opt.linprog(c,A_ub=A,b_ub=b)"
   ]
  },
  {
   "cell_type": "code",
   "execution_count": 10,
   "metadata": {},
   "outputs": [
    {
     "data": {
      "text/plain": [
       "     con: array([], dtype=float64)\n",
       "     fun: -54000.0\n",
       " message: 'Optimization terminated successfully.'\n",
       "     nit: 5\n",
       "   slack: array([  0.,   0.,  66.,   0., 200., 140.])\n",
       "  status: 0\n",
       " success: True\n",
       "       x: array([800., 400., 200.])"
      ]
     },
     "execution_count": 10,
     "metadata": {},
     "output_type": "execute_result"
    }
   ],
   "source": [
    "R"
   ]
  },
  {
   "cell_type": "code",
   "execution_count": 11,
   "metadata": {},
   "outputs": [],
   "source": [
    "Ganancia_Maxima = (R.fun)*-1"
   ]
  },
  {
   "cell_type": "code",
   "execution_count": 12,
   "metadata": {},
   "outputs": [
    {
     "name": "stdout",
     "output_type": "stream",
     "text": [
      "La ganancia máxima fue 54000.0\n"
     ]
    }
   ],
   "source": [
    "print(\"La ganancia máxima fue\",Ganancia_Maxima)"
   ]
  },
  {
   "cell_type": "code",
   "execution_count": 13,
   "metadata": {},
   "outputs": [],
   "source": [
    "x_1 = (R.x)[0]\n",
    "x_2 = (R.x)[1]\n",
    "x_3 = (R.x)[2]"
   ]
  },
  {
   "cell_type": "code",
   "execution_count": 14,
   "metadata": {},
   "outputs": [
    {
     "name": "stdout",
     "output_type": "stream",
     "text": [
      "El número óptimo de botellas de Kuit Original es 800.0 botellas\n",
      "El número óptimo de botellas de Kuit Black es 400.0 botellas\n",
      "El número óptimo de botellas de Kuit Gold es 200.0 botellas\n"
     ]
    }
   ],
   "source": [
    "print(\"El número óptimo de botellas de Kuit Original es\",x_1,\"botellas\")\n",
    "print(\"El número óptimo de botellas de Kuit Black es\",x_2,\"botellas\")\n",
    "print(\"El número óptimo de botellas de Kuit Gold es\",x_3,\"botellas\")"
   ]
  },
  {
   "cell_type": "markdown",
   "metadata": {},
   "source": [
    "### Tabla de optimización"
   ]
  },
  {
   "cell_type": "code",
   "execution_count": 63,
   "metadata": {},
   "outputs": [
    {
     "data": {
      "text/html": [
       "<div>\n",
       "<style scoped>\n",
       "    .dataframe tbody tr th:only-of-type {\n",
       "        vertical-align: middle;\n",
       "    }\n",
       "\n",
       "    .dataframe tbody tr th {\n",
       "        vertical-align: top;\n",
       "    }\n",
       "\n",
       "    .dataframe thead th {\n",
       "        text-align: right;\n",
       "    }\n",
       "</style>\n",
       "<table border=\"1\" class=\"dataframe\">\n",
       "  <thead>\n",
       "    <tr style=\"text-align: right;\">\n",
       "      <th></th>\n",
       "      <th>Unnamed: 0</th>\n",
       "      <th>Cap. Prod. Actual Sem</th>\n",
       "      <th>Produccion actual</th>\n",
       "      <th>Cap. Prod. Nueva Sem</th>\n",
       "      <th>Prod. Optima</th>\n",
       "      <th>Precio</th>\n",
       "    </tr>\n",
       "  </thead>\n",
       "  <tbody>\n",
       "    <tr>\n",
       "      <th>0</th>\n",
       "      <td>Kuit Original</td>\n",
       "      <td>400.0000</td>\n",
       "      <td>350</td>\n",
       "      <td>800.0000</td>\n",
       "      <td>800</td>\n",
       "      <td>35.0</td>\n",
       "    </tr>\n",
       "    <tr>\n",
       "      <th>1</th>\n",
       "      <td>Kuit Black</td>\n",
       "      <td>200.0000</td>\n",
       "      <td>180</td>\n",
       "      <td>400.0000</td>\n",
       "      <td>400</td>\n",
       "      <td>45.0</td>\n",
       "    </tr>\n",
       "    <tr>\n",
       "      <th>2</th>\n",
       "      <td>Kuit Gold</td>\n",
       "      <td>133.3332</td>\n",
       "      <td>110</td>\n",
       "      <td>266.6664</td>\n",
       "      <td>200</td>\n",
       "      <td>40.0</td>\n",
       "    </tr>\n",
       "    <tr>\n",
       "      <th>3</th>\n",
       "      <td>TOTAL</td>\n",
       "      <td>733.3332</td>\n",
       "      <td>640</td>\n",
       "      <td>1466.6664</td>\n",
       "      <td>1400</td>\n",
       "      <td>NaN</td>\n",
       "    </tr>\n",
       "  </tbody>\n",
       "</table>\n",
       "</div>"
      ],
      "text/plain": [
       "      Unnamed: 0  Cap. Prod. Actual Sem  Produccion actual  \\\n",
       "0  Kuit Original               400.0000                350   \n",
       "1     Kuit Black               200.0000                180   \n",
       "2      Kuit Gold               133.3332                110   \n",
       "3          TOTAL               733.3332                640   \n",
       "\n",
       "   Cap. Prod. Nueva Sem  Prod. Optima  Precio  \n",
       "0              800.0000           800    35.0  \n",
       "1              400.0000           400    45.0  \n",
       "2              266.6664           200    40.0  \n",
       "3             1466.6664          1400     NaN  "
      ]
     },
     "execution_count": 63,
     "metadata": {},
     "output_type": "execute_result"
    }
   ],
   "source": [
    "file_name1 = 'produccion semanal_voptimo.csv'\n",
    "data1 = pd.read_csv(file_name1)\n",
    "data1"
   ]
  },
  {
   "cell_type": "markdown",
   "metadata": {},
   "source": [
    "### Conclusiones"
   ]
  },
  {
   "cell_type": "markdown",
   "metadata": {},
   "source": [
    "Tras el análisis de la nueva producción e interpretar sus resultados, se obtuvo que los valores óptimos en referencia al número de botellas producidas semanalmente a partir de las capacidades dadas, fueron:\n",
    "+ 800 botellas de Kuit Original \n",
    "+ 400 botellas de Kuit Black\n",
    "+ 200 botellas de Kuit Gold\n",
    "\n",
    "**La ganancia semanal con los valores óptimos fue de 54,000**\n",
    "\n",
    "Dichas cantidades cumplen con las restricciones y la función objetivo establecidas por el planteamiento de la problemática, en donde fue necesario su solución mediante una maximización donde para que python pudiera interpretarlo de manera adecuada fue necesario transformar la función así como ciertas restricciones a mínimos.\n",
    "\n",
    "Para obtener la solución del problema, se hizo uso de un sistema de matrices y de funciones de programación lineal incluídas en librerías de Python. Una vez obtenida la solución se multiplico la ganancia obtenida por $-1$ debido a que anteriormente se había convertido a mínimo y el problema exigía como resultados máximos."
   ]
  },
  {
   "cell_type": "markdown",
   "metadata": {},
   "source": [
    "### Referencias"
   ]
  },
  {
   "cell_type": "markdown",
   "metadata": {},
   "source": [
    "Todos los datos utilizados fueron obtenidos de Kuit Artesanal\n",
    "\n",
    "Link: www.kuit.mx"
   ]
  },
  {
   "cell_type": "markdown",
   "metadata": {},
   "source": []
  }
 ],
 "metadata": {
  "kernelspec": {
   "display_name": "Python 3",
   "language": "python",
   "name": "python3"
  },
  "language_info": {
   "codemirror_mode": {
    "name": "ipython",
    "version": 3
   },
   "file_extension": ".py",
   "mimetype": "text/x-python",
   "name": "python",
   "nbconvert_exporter": "python",
   "pygments_lexer": "ipython3",
   "version": "3.7.3"
  }
 },
 "nbformat": 4,
 "nbformat_minor": 2
}
