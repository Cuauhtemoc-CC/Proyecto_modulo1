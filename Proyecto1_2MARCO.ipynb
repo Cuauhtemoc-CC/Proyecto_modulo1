{
 "cells": [
  {
   "cell_type": "markdown",
   "metadata": {},
   "source": [
    "## Proyecto Modulo 1"
   ]
  },
  {
   "cell_type": "markdown",
   "metadata": {},
   "source": [
    "### Maximización de la producción de la bebida Kuit y sus beneficios."
   ]
  },
  {
   "cell_type": "markdown",
   "metadata": {},
   "source": [
    "**Objetivo General:** Generar un modelo matemático que maximice la producción de Kuit y sus beneficios. "
   ]
  },
  {
   "cell_type": "markdown",
   "metadata": {},
   "source": [
    "**Objetivos específicos:**\n",
    "+ Investigar y organizar datos correspondientes a la producción de la bebida Kuit.\n",
    "+ Plantear un modelo de programación lineal que proporcione una solución óptima de acuerdo a la función objetivo y las restricciones de los datos."
   ]
  },
  {
   "cell_type": "markdown",
   "metadata": {},
   "source": [
    "Mediante este proyecto se busca optimizar la producción de la empresa Kuit Artesanal mediante la programación lineal, tomando como variables principales los 3 productos que se producen con restricciones y una función de costos específicos. Esto con el fin de maximizar las ventas al duplicar nuestra producción y ver los resultados arrojados.\n",
    "Como restricciones sabemos que Kuit Original tiene que ser el producto de mayor producción y Kuit Gold no puede ser menor a 60.\n",
    "\n",
    "$x_1 = Kuit Original$\n",
    "\n",
    "$x_2 = Kuit Black$\n",
    "\n",
    "$x_3 = Kuit Gold$"
   ]
  },
  {
   "cell_type": "markdown",
   "metadata": {},
   "source": [
    "DATOS"
   ]
  },
  {
   "cell_type": "code",
   "execution_count": 1,
   "metadata": {},
   "outputs": [],
   "source": [
    "import pandas as pd"
   ]
  },
  {
   "cell_type": "code",
   "execution_count": 2,
   "metadata": {},
   "outputs": [
    {
     "data": {
      "text/html": [
       "<div>\n",
       "<style scoped>\n",
       "    .dataframe tbody tr th:only-of-type {\n",
       "        vertical-align: middle;\n",
       "    }\n",
       "\n",
       "    .dataframe tbody tr th {\n",
       "        vertical-align: top;\n",
       "    }\n",
       "\n",
       "    .dataframe thead th {\n",
       "        text-align: right;\n",
       "    }\n",
       "</style>\n",
       "<table border=\"1\" class=\"dataframe\">\n",
       "  <thead>\n",
       "    <tr style=\"text-align: right;\">\n",
       "      <th></th>\n",
       "      <th>Unnamed: 0</th>\n",
       "      <th>Cap. Prod. Actual Sem.</th>\n",
       "      <th>Cap. Prod. Nueva Sem.</th>\n",
       "      <th>Precio</th>\n",
       "    </tr>\n",
       "  </thead>\n",
       "  <tbody>\n",
       "    <tr>\n",
       "      <th>0</th>\n",
       "      <td>Kuit Original</td>\n",
       "      <td>400.0000</td>\n",
       "      <td>800.0000</td>\n",
       "      <td>35.0</td>\n",
       "    </tr>\n",
       "    <tr>\n",
       "      <th>1</th>\n",
       "      <td>Kuit Black</td>\n",
       "      <td>200.0000</td>\n",
       "      <td>400.0000</td>\n",
       "      <td>45.0</td>\n",
       "    </tr>\n",
       "    <tr>\n",
       "      <th>2</th>\n",
       "      <td>Kuit Gold</td>\n",
       "      <td>133.3332</td>\n",
       "      <td>266.6664</td>\n",
       "      <td>40.0</td>\n",
       "    </tr>\n",
       "    <tr>\n",
       "      <th>3</th>\n",
       "      <td>TOTAL</td>\n",
       "      <td>733.3332</td>\n",
       "      <td>1466.6664</td>\n",
       "      <td>NaN</td>\n",
       "    </tr>\n",
       "  </tbody>\n",
       "</table>\n",
       "</div>"
      ],
      "text/plain": [
       "      Unnamed: 0  Cap. Prod. Actual Sem.  Cap. Prod. Nueva Sem.  Precio\n",
       "0  Kuit Original                400.0000               800.0000    35.0\n",
       "1     Kuit Black                200.0000               400.0000    45.0\n",
       "2      Kuit Gold                133.3332               266.6664    40.0\n",
       "3          TOTAL                733.3332              1466.6664     NaN"
      ]
     },
     "execution_count": 2,
     "metadata": {},
     "output_type": "execute_result"
    }
   ],
   "source": [
    "file_name = 'produccion semanal.csv'\n",
    "data = pd.read_csv(file_name)\n",
    "data"
   ]
  },
  {
   "cell_type": "markdown",
   "metadata": {},
   "source": [
    "**Función a optimizar:**\n",
    "\n",
    "$35x_1+45x_2+40x_3$\n",
    "\n",
    "**Restricciones:**\n",
    "\n",
    "$x_1\\leq 800$\n",
    "\n",
    "$x_2\\leq 400$\n",
    "\n",
    "$x_3\\leq 266$\n",
    "\n",
    "$x_1>x_2+x_3$\n",
    "\n",
    "$x_3>60$"
   ]
  },
  {
   "cell_type": "markdown",
   "metadata": {},
   "source": [
    "CODIGO"
   ]
  },
  {
   "cell_type": "markdown",
   "metadata": {},
   "source": [
    "GRAFICA"
   ]
  },
  {
   "cell_type": "markdown",
   "metadata": {},
   "source": [
    "CONCLUSIONES"
   ]
  },
  {
   "cell_type": "markdown",
   "metadata": {},
   "source": [
    "REFERENCIAS"
   ]
  },
  {
   "cell_type": "markdown",
   "metadata": {},
   "source": []
  }
 ],
 "metadata": {
  "kernelspec": {
   "display_name": "Python 3",
   "language": "python",
   "name": "python3"
  },
  "language_info": {
   "codemirror_mode": {
    "name": "ipython",
    "version": 3
   },
   "file_extension": ".py",
   "mimetype": "text/x-python",
   "name": "python",
   "nbconvert_exporter": "python",
   "pygments_lexer": "ipython3",
   "version": "3.7.3"
  }
 },
 "nbformat": 4,
 "nbformat_minor": 2
}
